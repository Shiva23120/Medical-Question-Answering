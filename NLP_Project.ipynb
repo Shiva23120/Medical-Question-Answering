{
  "cells": [
    {
      "cell_type": "code",
      "execution_count": 2,
      "metadata": {
        "id": "j26vrhWnn_VR"
      },
      "outputs": [
        {
          "name": "stderr",
          "output_type": "stream",
          "text": [
            "[nltk_data] Downloading package punkt to\n",
            "[nltk_data]     C:\\Users\\msk23\\AppData\\Roaming\\nltk_data...\n",
            "[nltk_data]   Package punkt is already up-to-date!\n"
          ]
        },
        {
          "data": {
            "text/plain": [
              "True"
            ]
          },
          "execution_count": 2,
          "metadata": {},
          "output_type": "execute_result"
        }
      ],
      "source": [
        "import pandas as pd\n",
        "import nltk\n",
        "from nltk.tokenize import word_tokenize\n",
        "import re\n",
        "from sklearn.model_selection import train_test_split\n",
        "\n",
        "# Download NLTK punkt tokenizer if you haven't already\n",
        "nltk.download('punkt')"
      ]
    },
    {
      "cell_type": "code",
      "execution_count": 3,
      "metadata": {
        "id": "VAfYeJ5WoCIv"
      },
      "outputs": [
        {
          "name": "stdout",
          "output_type": "stream",
          "text": [
            "                                            Question  \\\n",
            "0  Who is at risk for Lymphocytic Choriomeningiti...   \n",
            "1  What are the symptoms of Lymphocytic Choriomen...   \n",
            "2  Who is at risk for Lymphocytic Choriomeningiti...   \n",
            "3  How to diagnose Lymphocytic Choriomeningitis (...   \n",
            "4  What are the treatments for Lymphocytic Chorio...   \n",
            "\n",
            "                                              Answer  \n",
            "0  LCMV infections can occur after exposure to fr...  \n",
            "1  LCMV is most commonly recognized as causing ne...  \n",
            "2  Individuals of all ages who come into contact ...  \n",
            "3  During the first phase of the disease, the mos...  \n",
            "4  Aseptic meningitis, encephalitis, or meningoen...  \n"
          ]
        }
      ],
      "source": [
        "# Load the dataset\n",
        "data = pd.read_csv('train.csv')  # Adjust the path as necessary\n",
        "print(data.head())  # Check the first few rows of the dataset\n"
      ]
    },
    {
      "cell_type": "code",
      "execution_count": 4,
      "metadata": {
        "id": "ro1nhxQmverk"
      },
      "outputs": [
        {
          "name": "stdout",
          "output_type": "stream",
          "text": [
            "Index(['Question', 'Answer'], dtype='object')\n"
          ]
        }
      ],
      "source": [
        "# Check the column names\n",
        "print(data.columns)"
      ]
    },
    {
      "cell_type": "code",
      "execution_count": 5,
      "metadata": {
        "id": "_xYMqVl5vhF-"
      },
      "outputs": [],
      "source": [
        "def clean_text(text):\n",
        "    # Remove special characters, numbers, and extra spaces\n",
        "    text = re.sub(r'[^A-Za-z\\s]', '', text)\n",
        "    text = re.sub(r'\\s+', ' ', text)\n",
        "    return text.strip()\n"
      ]
    },
    {
      "cell_type": "code",
      "execution_count": 6,
      "metadata": {
        "id": "E1PL1qF7voT2"
      },
      "outputs": [
        {
          "name": "stdout",
          "output_type": "stream",
          "text": [
            "                                    cleaned_question  \\\n",
            "0  Who is at risk for Lymphocytic Choriomeningiti...   \n",
            "1  What are the symptoms of Lymphocytic Choriomen...   \n",
            "2  Who is at risk for Lymphocytic Choriomeningiti...   \n",
            "3   How to diagnose Lymphocytic Choriomeningitis LCM   \n",
            "4  What are the treatments for Lymphocytic Chorio...   \n",
            "\n",
            "                                      cleaned_answer  \n",
            "0  LCMV infections can occur after exposure to fr...  \n",
            "1  LCMV is most commonly recognized as causing ne...  \n",
            "2  Individuals of all ages who come into contact ...  \n",
            "3  During the first phase of the disease the most...  \n",
            "4  Aseptic meningitis encephalitis or meningoence...  \n"
          ]
        }
      ],
      "source": [
        "# Clean the 'Question' column\n",
        "data['cleaned_question'] = data['Question'].apply(clean_text)\n",
        "\n",
        "# Clean the 'Answer' column\n",
        "data['cleaned_answer'] = data['Answer'].apply(clean_text)\n",
        "\n",
        "# Display the cleaned questions and answers\n",
        "print(data[['cleaned_question', 'cleaned_answer']].head())\n"
      ]
    },
    {
      "cell_type": "code",
      "execution_count": 7,
      "metadata": {
        "id": "taJ2jWRzvqYD"
      },
      "outputs": [
        {
          "name": "stdout",
          "output_type": "stream",
          "text": [
            "                                     tokens_question  \\\n",
            "0  [Who, is, at, risk, for, Lymphocytic, Choriome...   \n",
            "1  [What, are, the, symptoms, of, Lymphocytic, Ch...   \n",
            "2  [Who, is, at, risk, for, Lymphocytic, Choriome...   \n",
            "3  [How, to, diagnose, Lymphocytic, Choriomeningi...   \n",
            "4  [What, are, the, treatments, for, Lymphocytic,...   \n",
            "\n",
            "                                       tokens_answer  \n",
            "0  [LCMV, infections, can, occur, after, exposure...  \n",
            "1  [LCMV, is, most, commonly, recognized, as, cau...  \n",
            "2  [Individuals, of, all, ages, who, come, into, ...  \n",
            "3  [During, the, first, phase, of, the, disease, ...  \n",
            "4  [Aseptic, meningitis, encephalitis, or, mening...  \n"
          ]
        }
      ],
      "source": [
        "from nltk.tokenize import word_tokenize\n",
        "\n",
        "# Tokenize the cleaned questions and answers\n",
        "data['tokens_question'] = data['cleaned_question'].apply(word_tokenize)\n",
        "data['tokens_answer'] = data['cleaned_answer'].apply(word_tokenize)\n",
        "\n",
        "# Check the tokenized questions and answers\n",
        "print(data[['tokens_question', 'tokens_answer']].head())\n"
      ]
    },
    {
      "cell_type": "code",
      "execution_count": 8,
      "metadata": {
        "id": "_toHtVgovs-0"
      },
      "outputs": [
        {
          "name": "stdout",
          "output_type": "stream",
          "text": [
            "Requirement already satisfied: spacy in c:\\users\\msk23\\flaskenv\\flaskenv\\lib\\site-packages (3.7.4)\n",
            "Requirement already satisfied: spacy-legacy<3.1.0,>=3.0.11 in c:\\users\\msk23\\flaskenv\\flaskenv\\lib\\site-packages (from spacy) (3.0.12)\n",
            "Requirement already satisfied: spacy-loggers<2.0.0,>=1.0.0 in c:\\users\\msk23\\flaskenv\\flaskenv\\lib\\site-packages (from spacy) (1.0.5)\n",
            "Requirement already satisfied: murmurhash<1.1.0,>=0.28.0 in c:\\users\\msk23\\flaskenv\\flaskenv\\lib\\site-packages (from spacy) (1.0.10)\n",
            "Requirement already satisfied: cymem<2.1.0,>=2.0.2 in c:\\users\\msk23\\flaskenv\\flaskenv\\lib\\site-packages (from spacy) (2.0.8)\n",
            "Requirement already satisfied: preshed<3.1.0,>=3.0.2 in c:\\users\\msk23\\flaskenv\\flaskenv\\lib\\site-packages (from spacy) (3.0.9)\n",
            "Requirement already satisfied: thinc<8.3.0,>=8.2.2 in c:\\users\\msk23\\flaskenv\\flaskenv\\lib\\site-packages (from spacy) (8.2.3)\n",
            "Requirement already satisfied: wasabi<1.2.0,>=0.9.1 in c:\\users\\msk23\\flaskenv\\flaskenv\\lib\\site-packages (from spacy) (1.1.2)\n",
            "Requirement already satisfied: srsly<3.0.0,>=2.4.3 in c:\\users\\msk23\\flaskenv\\flaskenv\\lib\\site-packages (from spacy) (2.4.8)\n",
            "Requirement already satisfied: catalogue<2.1.0,>=2.0.6 in c:\\users\\msk23\\flaskenv\\flaskenv\\lib\\site-packages (from spacy) (2.0.10)\n",
            "Requirement already satisfied: weasel<0.4.0,>=0.1.0 in c:\\users\\msk23\\flaskenv\\flaskenv\\lib\\site-packages (from spacy) (0.3.4)\n",
            "Requirement already satisfied: typer<0.10.0,>=0.3.0 in c:\\users\\msk23\\flaskenv\\flaskenv\\lib\\site-packages (from spacy) (0.9.0)\n",
            "Requirement already satisfied: smart-open<7.0.0,>=5.2.1 in c:\\users\\msk23\\flaskenv\\flaskenv\\lib\\site-packages (from spacy) (6.4.0)\n",
            "Requirement already satisfied: tqdm<5.0.0,>=4.38.0 in c:\\users\\msk23\\flaskenv\\flaskenv\\lib\\site-packages (from spacy) (4.66.2)\n",
            "Requirement already satisfied: requests<3.0.0,>=2.13.0 in c:\\users\\msk23\\flaskenv\\flaskenv\\lib\\site-packages (from spacy) (2.31.0)\n",
            "Requirement already satisfied: pydantic!=1.8,!=1.8.1,<3.0.0,>=1.7.4 in c:\\users\\msk23\\flaskenv\\flaskenv\\lib\\site-packages (from spacy) (2.6.3)\n",
            "Requirement already satisfied: jinja2 in c:\\users\\msk23\\flaskenv\\flaskenv\\lib\\site-packages (from spacy) (3.1.3)\n",
            "Requirement already satisfied: setuptools in c:\\users\\msk23\\flaskenv\\flaskenv\\lib\\site-packages (from spacy) (65.5.1)\n",
            "Requirement already satisfied: packaging>=20.0 in c:\\users\\msk23\\flaskenv\\flaskenv\\lib\\site-packages (from spacy) (23.2)\n",
            "Requirement already satisfied: langcodes<4.0.0,>=3.2.0 in c:\\users\\msk23\\flaskenv\\flaskenv\\lib\\site-packages (from spacy) (3.3.0)\n",
            "Requirement already satisfied: numpy>=1.19.0 in c:\\users\\msk23\\flaskenv\\flaskenv\\lib\\site-packages (from spacy) (1.26.3)\n",
            "Requirement already satisfied: annotated-types>=0.4.0 in c:\\users\\msk23\\flaskenv\\flaskenv\\lib\\site-packages (from pydantic!=1.8,!=1.8.1,<3.0.0,>=1.7.4->spacy) (0.6.0)\n",
            "Requirement already satisfied: pydantic-core==2.16.3 in c:\\users\\msk23\\flaskenv\\flaskenv\\lib\\site-packages (from pydantic!=1.8,!=1.8.1,<3.0.0,>=1.7.4->spacy) (2.16.3)\n",
            "Requirement already satisfied: typing-extensions>=4.6.1 in c:\\users\\msk23\\flaskenv\\flaskenv\\lib\\site-packages (from pydantic!=1.8,!=1.8.1,<3.0.0,>=1.7.4->spacy) (4.10.0)\n",
            "Requirement already satisfied: charset-normalizer<4,>=2 in c:\\users\\msk23\\flaskenv\\flaskenv\\lib\\site-packages (from requests<3.0.0,>=2.13.0->spacy) (3.3.2)\n",
            "Requirement already satisfied: idna<4,>=2.5 in c:\\users\\msk23\\flaskenv\\flaskenv\\lib\\site-packages (from requests<3.0.0,>=2.13.0->spacy) (3.6)\n",
            "Requirement already satisfied: urllib3<3,>=1.21.1 in c:\\users\\msk23\\flaskenv\\flaskenv\\lib\\site-packages (from requests<3.0.0,>=2.13.0->spacy) (2.2.1)\n",
            "Requirement already satisfied: certifi>=2017.4.17 in c:\\users\\msk23\\flaskenv\\flaskenv\\lib\\site-packages (from requests<3.0.0,>=2.13.0->spacy) (2024.2.2)\n",
            "Requirement already satisfied: blis<0.8.0,>=0.7.8 in c:\\users\\msk23\\flaskenv\\flaskenv\\lib\\site-packages (from thinc<8.3.0,>=8.2.2->spacy) (0.7.11)\n",
            "Requirement already satisfied: confection<1.0.0,>=0.0.1 in c:\\users\\msk23\\flaskenv\\flaskenv\\lib\\site-packages (from thinc<8.3.0,>=8.2.2->spacy) (0.1.4)\n",
            "Requirement already satisfied: colorama in c:\\users\\msk23\\flaskenv\\flaskenv\\lib\\site-packages (from tqdm<5.0.0,>=4.38.0->spacy) (0.4.6)\n",
            "Requirement already satisfied: click<9.0.0,>=7.1.1 in c:\\users\\msk23\\flaskenv\\flaskenv\\lib\\site-packages (from typer<0.10.0,>=0.3.0->spacy) (8.1.7)\n",
            "Requirement already satisfied: cloudpathlib<0.17.0,>=0.7.0 in c:\\users\\msk23\\flaskenv\\flaskenv\\lib\\site-packages (from weasel<0.4.0,>=0.1.0->spacy) (0.16.0)\n",
            "Requirement already satisfied: MarkupSafe>=2.0 in c:\\users\\msk23\\flaskenv\\flaskenv\\lib\\site-packages (from jinja2->spacy) (2.1.5)\n",
            "Note: you may need to restart the kernel to use updated packages.\n"
          ]
        },
        {
          "name": "stderr",
          "output_type": "stream",
          "text": [
            "DEPRECATION: Loading egg at c:\\users\\msk23\\flaskenv\\flaskenv\\lib\\site-packages\\pytesseract-0.3.13-py3.11.egg is deprecated. pip 24.3 will enforce this behaviour change. A possible replacement is to use pip for package installation.. Discussion can be found at https://github.com/pypa/pip/issues/12330\n",
            "\n",
            "[notice] A new release of pip is available: 24.0 -> 24.2\n",
            "[notice] To update, run: python.exe -m pip install --upgrade pip\n"
          ]
        }
      ],
      "source": [
        "pip install spacy"
      ]
    },
    {
      "cell_type": "code",
      "execution_count": 9,
      "metadata": {
        "id": "2C5Gjl7Iv0sz"
      },
      "outputs": [
        {
          "name": "stdout",
          "output_type": "stream",
          "text": [
            "Collecting en-core-web-sm==3.7.1\n",
            "  Downloading https://github.com/explosion/spacy-models/releases/download/en_core_web_sm-3.7.1/en_core_web_sm-3.7.1-py3-none-any.whl (12.8 MB)\n",
            "     ---------------------------------------- 0.0/12.8 MB ? eta -:--:--\n",
            "      --------------------------------------- 0.3/12.8 MB 8.9 MB/s eta 0:00:02\n",
            "     ---- ----------------------------------- 1.4/12.8 MB 14.3 MB/s eta 0:00:01\n",
            "     ----- ---------------------------------- 1.8/12.8 MB 14.0 MB/s eta 0:00:01\n",
            "     ------ --------------------------------- 2.0/12.8 MB 11.6 MB/s eta 0:00:01\n",
            "     ------- -------------------------------- 2.3/12.8 MB 10.4 MB/s eta 0:00:02\n",
            "     ------- -------------------------------- 2.5/12.8 MB 9.4 MB/s eta 0:00:02\n",
            "     -------- ------------------------------- 2.9/12.8 MB 9.2 MB/s eta 0:00:02\n",
            "     ---------- ----------------------------- 3.3/12.8 MB 9.2 MB/s eta 0:00:02\n",
            "     ---------- ----------------------------- 3.4/12.8 MB 8.3 MB/s eta 0:00:02\n",
            "     ----------- ---------------------------- 3.8/12.8 MB 8.4 MB/s eta 0:00:02\n",
            "     ------------ --------------------------- 4.1/12.8 MB 8.2 MB/s eta 0:00:02\n",
            "     ------------- -------------------------- 4.3/12.8 MB 8.3 MB/s eta 0:00:02\n",
            "     -------------- ------------------------- 4.8/12.8 MB 8.0 MB/s eta 0:00:02\n",
            "     --------------- ------------------------ 5.0/12.8 MB 8.0 MB/s eta 0:00:01\n",
            "     ---------------- ----------------------- 5.2/12.8 MB 7.6 MB/s eta 0:00:01\n",
            "     ----------------- ---------------------- 5.5/12.8 MB 7.7 MB/s eta 0:00:01\n",
            "     ------------------ --------------------- 5.8/12.8 MB 7.5 MB/s eta 0:00:01\n",
            "     ------------------ --------------------- 5.8/12.8 MB 7.3 MB/s eta 0:00:01\n",
            "     ------------------ --------------------- 6.0/12.8 MB 6.8 MB/s eta 0:00:01\n",
            "     ------------------- -------------------- 6.2/12.8 MB 6.7 MB/s eta 0:00:01\n",
            "     ------------------- -------------------- 6.3/12.8 MB 6.5 MB/s eta 0:00:01\n",
            "     -------------------- ------------------- 6.5/12.8 MB 6.5 MB/s eta 0:00:01\n",
            "     -------------------- ------------------- 6.6/12.8 MB 6.3 MB/s eta 0:00:01\n",
            "     --------------------- ------------------ 6.7/12.8 MB 6.1 MB/s eta 0:00:01\n",
            "     --------------------- ------------------ 6.9/12.8 MB 6.0 MB/s eta 0:00:01\n",
            "     ---------------------- ----------------- 7.1/12.8 MB 5.9 MB/s eta 0:00:01\n",
            "     ---------------------- ----------------- 7.2/12.8 MB 5.9 MB/s eta 0:00:01\n",
            "     ----------------------- ---------------- 7.4/12.8 MB 5.8 MB/s eta 0:00:01\n",
            "     ----------------------- ---------------- 7.6/12.8 MB 5.7 MB/s eta 0:00:01\n",
            "     ------------------------ --------------- 7.8/12.8 MB 5.7 MB/s eta 0:00:01\n",
            "     ------------------------- -------------- 8.0/12.8 MB 5.6 MB/s eta 0:00:01\n",
            "     ------------------------- -------------- 8.2/12.8 MB 5.6 MB/s eta 0:00:01\n",
            "     -------------------------- ------------- 8.4/12.8 MB 5.6 MB/s eta 0:00:01\n",
            "     --------------------------- ------------ 8.7/12.8 MB 5.5 MB/s eta 0:00:01\n",
            "     --------------------------- ------------ 8.9/12.8 MB 5.5 MB/s eta 0:00:01\n",
            "     ---------------------------- ----------- 9.1/12.8 MB 5.5 MB/s eta 0:00:01\n",
            "     ----------------------------- ---------- 9.3/12.8 MB 5.5 MB/s eta 0:00:01\n",
            "     ----------------------------- ---------- 9.5/12.8 MB 5.5 MB/s eta 0:00:01\n",
            "     ------------------------------ --------- 9.8/12.8 MB 5.5 MB/s eta 0:00:01\n",
            "     ------------------------------- -------- 10.0/12.8 MB 5.5 MB/s eta 0:00:01\n",
            "     -------------------------------- ------- 10.3/12.8 MB 5.5 MB/s eta 0:00:01\n",
            "     -------------------------------- ------- 10.5/12.8 MB 5.4 MB/s eta 0:00:01\n",
            "     --------------------------------- ------ 10.8/12.8 MB 5.4 MB/s eta 0:00:01\n",
            "     ---------------------------------- ----- 11.0/12.8 MB 5.2 MB/s eta 0:00:01\n",
            "     ----------------------------------- ---- 11.3/12.8 MB 5.2 MB/s eta 0:00:01\n",
            "     ----------------------------------- ---- 11.5/12.8 MB 5.0 MB/s eta 0:00:01\n",
            "     ------------------------------------ --- 11.8/12.8 MB 5.0 MB/s eta 0:00:01\n",
            "     ------------------------------------- -- 12.1/12.8 MB 5.0 MB/s eta 0:00:01\n",
            "     -------------------------------------- - 12.3/12.8 MB 5.0 MB/s eta 0:00:01\n",
            "     ---------------------------------------  12.6/12.8 MB 5.0 MB/s eta 0:00:01\n",
            "     ---------------------------------------  12.8/12.8 MB 5.0 MB/s eta 0:00:01\n",
            "     ---------------------------------------  12.8/12.8 MB 5.0 MB/s eta 0:00:01\n",
            "     ---------------------------------------- 12.8/12.8 MB 4.8 MB/s eta 0:00:00\n",
            "Requirement already satisfied: spacy<3.8.0,>=3.7.2 in c:\\users\\msk23\\flaskenv\\flaskenv\\lib\\site-packages (from en-core-web-sm==3.7.1) (3.7.4)\n",
            "Requirement already satisfied: spacy-legacy<3.1.0,>=3.0.11 in c:\\users\\msk23\\flaskenv\\flaskenv\\lib\\site-packages (from spacy<3.8.0,>=3.7.2->en-core-web-sm==3.7.1) (3.0.12)\n",
            "Requirement already satisfied: spacy-loggers<2.0.0,>=1.0.0 in c:\\users\\msk23\\flaskenv\\flaskenv\\lib\\site-packages (from spacy<3.8.0,>=3.7.2->en-core-web-sm==3.7.1) (1.0.5)\n",
            "Requirement already satisfied: murmurhash<1.1.0,>=0.28.0 in c:\\users\\msk23\\flaskenv\\flaskenv\\lib\\site-packages (from spacy<3.8.0,>=3.7.2->en-core-web-sm==3.7.1) (1.0.10)\n",
            "Requirement already satisfied: cymem<2.1.0,>=2.0.2 in c:\\users\\msk23\\flaskenv\\flaskenv\\lib\\site-packages (from spacy<3.8.0,>=3.7.2->en-core-web-sm==3.7.1) (2.0.8)\n",
            "Requirement already satisfied: preshed<3.1.0,>=3.0.2 in c:\\users\\msk23\\flaskenv\\flaskenv\\lib\\site-packages (from spacy<3.8.0,>=3.7.2->en-core-web-sm==3.7.1) (3.0.9)\n",
            "Requirement already satisfied: thinc<8.3.0,>=8.2.2 in c:\\users\\msk23\\flaskenv\\flaskenv\\lib\\site-packages (from spacy<3.8.0,>=3.7.2->en-core-web-sm==3.7.1) (8.2.3)\n",
            "Requirement already satisfied: wasabi<1.2.0,>=0.9.1 in c:\\users\\msk23\\flaskenv\\flaskenv\\lib\\site-packages (from spacy<3.8.0,>=3.7.2->en-core-web-sm==3.7.1) (1.1.2)\n",
            "Requirement already satisfied: srsly<3.0.0,>=2.4.3 in c:\\users\\msk23\\flaskenv\\flaskenv\\lib\\site-packages (from spacy<3.8.0,>=3.7.2->en-core-web-sm==3.7.1) (2.4.8)\n",
            "Requirement already satisfied: catalogue<2.1.0,>=2.0.6 in c:\\users\\msk23\\flaskenv\\flaskenv\\lib\\site-packages (from spacy<3.8.0,>=3.7.2->en-core-web-sm==3.7.1) (2.0.10)\n",
            "Requirement already satisfied: weasel<0.4.0,>=0.1.0 in c:\\users\\msk23\\flaskenv\\flaskenv\\lib\\site-packages (from spacy<3.8.0,>=3.7.2->en-core-web-sm==3.7.1) (0.3.4)\n",
            "Requirement already satisfied: typer<0.10.0,>=0.3.0 in c:\\users\\msk23\\flaskenv\\flaskenv\\lib\\site-packages (from spacy<3.8.0,>=3.7.2->en-core-web-sm==3.7.1) (0.9.0)\n",
            "Requirement already satisfied: smart-open<7.0.0,>=5.2.1 in c:\\users\\msk23\\flaskenv\\flaskenv\\lib\\site-packages (from spacy<3.8.0,>=3.7.2->en-core-web-sm==3.7.1) (6.4.0)\n",
            "Requirement already satisfied: tqdm<5.0.0,>=4.38.0 in c:\\users\\msk23\\flaskenv\\flaskenv\\lib\\site-packages (from spacy<3.8.0,>=3.7.2->en-core-web-sm==3.7.1) (4.66.2)\n",
            "Requirement already satisfied: requests<3.0.0,>=2.13.0 in c:\\users\\msk23\\flaskenv\\flaskenv\\lib\\site-packages (from spacy<3.8.0,>=3.7.2->en-core-web-sm==3.7.1) (2.31.0)\n",
            "Requirement already satisfied: pydantic!=1.8,!=1.8.1,<3.0.0,>=1.7.4 in c:\\users\\msk23\\flaskenv\\flaskenv\\lib\\site-packages (from spacy<3.8.0,>=3.7.2->en-core-web-sm==3.7.1) (2.6.3)\n",
            "Requirement already satisfied: jinja2 in c:\\users\\msk23\\flaskenv\\flaskenv\\lib\\site-packages (from spacy<3.8.0,>=3.7.2->en-core-web-sm==3.7.1) (3.1.3)\n",
            "Requirement already satisfied: setuptools in c:\\users\\msk23\\flaskenv\\flaskenv\\lib\\site-packages (from spacy<3.8.0,>=3.7.2->en-core-web-sm==3.7.1) (65.5.1)\n",
            "Requirement already satisfied: packaging>=20.0 in c:\\users\\msk23\\flaskenv\\flaskenv\\lib\\site-packages (from spacy<3.8.0,>=3.7.2->en-core-web-sm==3.7.1) (23.2)\n",
            "Requirement already satisfied: langcodes<4.0.0,>=3.2.0 in c:\\users\\msk23\\flaskenv\\flaskenv\\lib\\site-packages (from spacy<3.8.0,>=3.7.2->en-core-web-sm==3.7.1) (3.3.0)\n",
            "Requirement already satisfied: numpy>=1.19.0 in c:\\users\\msk23\\flaskenv\\flaskenv\\lib\\site-packages (from spacy<3.8.0,>=3.7.2->en-core-web-sm==3.7.1) (1.26.3)\n",
            "Requirement already satisfied: annotated-types>=0.4.0 in c:\\users\\msk23\\flaskenv\\flaskenv\\lib\\site-packages (from pydantic!=1.8,!=1.8.1,<3.0.0,>=1.7.4->spacy<3.8.0,>=3.7.2->en-core-web-sm==3.7.1) (0.6.0)\n",
            "Requirement already satisfied: pydantic-core==2.16.3 in c:\\users\\msk23\\flaskenv\\flaskenv\\lib\\site-packages (from pydantic!=1.8,!=1.8.1,<3.0.0,>=1.7.4->spacy<3.8.0,>=3.7.2->en-core-web-sm==3.7.1) (2.16.3)\n",
            "Requirement already satisfied: typing-extensions>=4.6.1 in c:\\users\\msk23\\flaskenv\\flaskenv\\lib\\site-packages (from pydantic!=1.8,!=1.8.1,<3.0.0,>=1.7.4->spacy<3.8.0,>=3.7.2->en-core-web-sm==3.7.1) (4.10.0)\n",
            "Requirement already satisfied: charset-normalizer<4,>=2 in c:\\users\\msk23\\flaskenv\\flaskenv\\lib\\site-packages (from requests<3.0.0,>=2.13.0->spacy<3.8.0,>=3.7.2->en-core-web-sm==3.7.1) (3.3.2)\n",
            "Requirement already satisfied: idna<4,>=2.5 in c:\\users\\msk23\\flaskenv\\flaskenv\\lib\\site-packages (from requests<3.0.0,>=2.13.0->spacy<3.8.0,>=3.7.2->en-core-web-sm==3.7.1) (3.6)\n",
            "Requirement already satisfied: urllib3<3,>=1.21.1 in c:\\users\\msk23\\flaskenv\\flaskenv\\lib\\site-packages (from requests<3.0.0,>=2.13.0->spacy<3.8.0,>=3.7.2->en-core-web-sm==3.7.1) (2.2.1)\n",
            "Requirement already satisfied: certifi>=2017.4.17 in c:\\users\\msk23\\flaskenv\\flaskenv\\lib\\site-packages (from requests<3.0.0,>=2.13.0->spacy<3.8.0,>=3.7.2->en-core-web-sm==3.7.1) (2024.2.2)\n",
            "Requirement already satisfied: blis<0.8.0,>=0.7.8 in c:\\users\\msk23\\flaskenv\\flaskenv\\lib\\site-packages (from thinc<8.3.0,>=8.2.2->spacy<3.8.0,>=3.7.2->en-core-web-sm==3.7.1) (0.7.11)\n",
            "Requirement already satisfied: confection<1.0.0,>=0.0.1 in c:\\users\\msk23\\flaskenv\\flaskenv\\lib\\site-packages (from thinc<8.3.0,>=8.2.2->spacy<3.8.0,>=3.7.2->en-core-web-sm==3.7.1) (0.1.4)\n",
            "Requirement already satisfied: colorama in c:\\users\\msk23\\flaskenv\\flaskenv\\lib\\site-packages (from tqdm<5.0.0,>=4.38.0->spacy<3.8.0,>=3.7.2->en-core-web-sm==3.7.1) (0.4.6)\n",
            "Requirement already satisfied: click<9.0.0,>=7.1.1 in c:\\users\\msk23\\flaskenv\\flaskenv\\lib\\site-packages (from typer<0.10.0,>=0.3.0->spacy<3.8.0,>=3.7.2->en-core-web-sm==3.7.1) (8.1.7)\n",
            "Requirement already satisfied: cloudpathlib<0.17.0,>=0.7.0 in c:\\users\\msk23\\flaskenv\\flaskenv\\lib\\site-packages (from weasel<0.4.0,>=0.1.0->spacy<3.8.0,>=3.7.2->en-core-web-sm==3.7.1) (0.16.0)\n",
            "Requirement already satisfied: MarkupSafe>=2.0 in c:\\users\\msk23\\flaskenv\\flaskenv\\lib\\site-packages (from jinja2->spacy<3.8.0,>=3.7.2->en-core-web-sm==3.7.1) (2.1.5)\n",
            "\u001b[38;5;2m✔ Download and installation successful\u001b[0m\n",
            "You can now load the package via spacy.load('en_core_web_sm')\n"
          ]
        },
        {
          "name": "stderr",
          "output_type": "stream",
          "text": [
            "DEPRECATION: Loading egg at c:\\users\\msk23\\flaskenv\\flaskenv\\lib\\site-packages\\pytesseract-0.3.13-py3.11.egg is deprecated. pip 24.3 will enforce this behaviour change. A possible replacement is to use pip for package installation.. Discussion can be found at https://github.com/pypa/pip/issues/12330\n",
            "\n",
            "[notice] A new release of pip is available: 24.0 -> 24.2\n",
            "[notice] To update, run: python.exe -m pip install --upgrade pip\n"
          ]
        }
      ],
      "source": [
        "!python -m spacy download en_core_web_sm"
      ]
    },
    {
      "cell_type": "code",
      "execution_count": 10,
      "metadata": {
        "id": "bWAnO-qNwEoQ"
      },
      "outputs": [],
      "source": [
        "import spacy\n",
        "from nltk.tokenize import word_tokenize"
      ]
    },
    {
      "cell_type": "code",
      "execution_count": 11,
      "metadata": {
        "id": "ETLU41XGwTBd"
      },
      "outputs": [],
      "source": [
        "nlp = spacy.load(\"en_core_web_sm\")"
      ]
    },
    {
      "cell_type": "code",
      "execution_count": 12,
      "metadata": {
        "id": "xuW7Dl2uwdMa"
      },
      "outputs": [
        {
          "name": "stdout",
          "output_type": "stream",
          "text": [
            "                                    cleaned_question  \\\n",
            "0  Who is at risk for Lymphocytic Choriomeningiti...   \n",
            "1  What are the symptoms of Lymphocytic Choriomen...   \n",
            "2  Who is at risk for Lymphocytic Choriomeningiti...   \n",
            "3   How to diagnose Lymphocytic Choriomeningitis LCM   \n",
            "4  What are the treatments for Lymphocytic Chorio...   \n",
            "\n",
            "                           entities_question  \\\n",
            "0                      [(Lymphocytic, NORP)]   \n",
            "1  [(Lymphocytic Choriomeningitis LCM, LOC)]   \n",
            "2                      [(Lymphocytic, NORP)]   \n",
            "3                      [(Lymphocytic, NORP)]   \n",
            "4                      [(Lymphocytic, NORP)]   \n",
            "\n",
            "                                      cleaned_answer  \\\n",
            "0  LCMV infections can occur after exposure to fr...   \n",
            "1  LCMV is most commonly recognized as causing ne...   \n",
            "2  Individuals of all ages who come into contact ...   \n",
            "3  During the first phase of the disease the most...   \n",
            "4  Aseptic meningitis encephalitis or meningoence...   \n",
            "\n",
            "                                     entities_answer  \n",
            "0  [(LCMV, ORG), (Transmission, ORG), (Persontope...  \n",
            "1  [(LCMV, ORG), (occurs days, DATE), (a few days...  \n",
            "2       [(colonies, GPE), (LCMV, ORG), (Human, ORG)]  \n",
            "3  [(first, ORDINAL), (second, ORDINAL), (CSF, OR...  \n",
            "4                          [(LCMV, ORG), (LCM, ORG)]  \n"
          ]
        }
      ],
      "source": [
        "def extract_entities(text):\n",
        "    doc = nlp(text)\n",
        "    return [(ent.text, ent.label_) for ent in doc.ents]\n",
        "\n",
        "# Extract entities from cleaned questions and answers\n",
        "data['entities_question'] = data['cleaned_question'].apply(extract_entities)\n",
        "data['entities_answer'] = data['cleaned_answer'].apply(extract_entities)\n",
        "\n",
        "# Display the extracted entities\n",
        "print(data[['cleaned_question', 'entities_question', 'cleaned_answer', 'entities_answer']].head())\n"
      ]
    },
    {
      "cell_type": "code",
      "execution_count": 13,
      "metadata": {
        "id": "C6TiBtEtwgqn"
      },
      "outputs": [],
      "source": [
        "# Split the data into training and testing sets\n",
        "train_data, test_data = train_test_split(data, test_size=0.2, random_state=42)\n"
      ]
    },
    {
      "cell_type": "code",
      "execution_count": 14,
      "metadata": {
        "id": "3SrDjqs-xgVy"
      },
      "outputs": [
        {
          "name": "stderr",
          "output_type": "stream",
          "text": [
            "c:\\Users\\msk23\\flaskenv\\flaskenv\\Lib\\site-packages\\tqdm\\auto.py:21: TqdmWarning: IProgress not found. Please update jupyter and ipywidgets. See https://ipywidgets.readthedocs.io/en/stable/user_install.html\n",
            "  from .autonotebook import tqdm as notebook_tqdm\n",
            "No model was supplied, defaulted to distilbert/distilbert-base-cased-distilled-squad and revision 626af31 (https://huggingface.co/distilbert/distilbert-base-cased-distilled-squad).\n",
            "Using a pipeline without specifying a model name and revision in production is not recommended.\n"
          ]
        },
        {
          "name": "stdout",
          "output_type": "stream",
          "text": [
            "WARNING:tensorflow:From c:\\Users\\msk23\\flaskenv\\flaskenv\\Lib\\site-packages\\tf_keras\\src\\losses.py:2976: The name tf.losses.sparse_softmax_cross_entropy is deprecated. Please use tf.compat.v1.losses.sparse_softmax_cross_entropy instead.\n",
            "\n",
            "Answer: being very thirsty  - frequent urination\n"
          ]
        }
      ],
      "source": [
        "from transformers import pipeline\n",
        "\n",
        "# Load the question-answering pipeline\n",
        "qa_pipeline = pipeline(\"question-answering\")\n",
        "\n",
        "def answer_question(question, context):\n",
        "    result = qa_pipeline(question=question, context=context)\n",
        "    return result['answer']\n",
        "\n",
        "# Example usage\n",
        "question = \"What are the symptoms of diabetes?\"\n",
        "context = \"Diabetes is often called a silent disease because it can cause serious complications even before you have symptoms. Symptoms can also be so mild that you dont notice them. An estimated 8 million people in the United States have type 2 diabetes and dont know it, according to 2012 estimates by the Centers for Disease Control and Prevention (CDC). Common Signs Some common symptoms of diabetes are: - being very thirsty  - frequent urination  - feeling very hungry or tired  - losing weight without trying  - having sores that heal slowly  - having dry, itchy skin  - loss of feeling or tingling in the feet  - having blurry eyesight. being very thirsty frequent urination feeling very hungry or tired losing weight without trying having sores that heal slowly having dry, itchy skin loss of feeling or tingling in the feet having blurry eyesight. Signs of type 1 diabetes usually develop over a short period of time. The signs for type 2 diabetes develop more gradually. Tests for Diabetes The following tests are used to diagnose diabetes or prediabetes. - An A1C test measures your average blood glucose levels over the past 3 months. It can be used to diagnose type 2 diabetes and prediabetes. It does not require fasting and blood can be drawn for the test any time of the day.  An A1C test measures your average blood glucose levels over the past 3 months. It can be used to diagnose type 2 diabetes and prediabetes. It does not require fasting and blood can be drawn for the test any time of the day. - A fasting plasma glucose, or FPG test, measures your blood glucose after you have gone at least 8 hours without eating. Doctors use this test to detect diabetes or prediabetes.  A fasting plasma glucose, or FPG test, measures your blood glucose after you have gone at least 8 hours without eating. Doctors use this test to detect diabetes or prediabetes. - In a random plasma glucose test, your doctor checks your blood glucose without regard to when you ate your last meal. This test, along with an assessment of symptoms, is used to diagnose diabetes but not prediabetes.  In a random plasma glucose test, your doctor checks your blood glucose without regard to when you ate your last meal. This test, along with an assessment of symptoms, is used to diagnose diabetes but not prediabetes. - An oral glucose tolerance test, or OGTT, measures your blood glucose after you have gone at least 8 hours without eating and 2 hours after you drink a sweet beverage. Doctors also use the oral glucose tolerance test to diagnose gestational diabetes in pregnant women.  An oral glucose tolerance test, or OGTT, measures your blood glucose after you have gone at least 8 hours without eating and 2 hours after you drink a sweet beverage. Doctors also use the oral glucose tolerance test to diagnose gestational diabetes in pregnant women. If any of these tests show that you might have diabetes, your doctor will need to repeat the test with a second measurement unless there are clear symptoms of diabetes. Get more details about tests for diabetes. Who Should Get Tested? Because type 2 diabetes is more common in older people, anyone who is 45 or older should consider getting tested. If you are 45 or older and overweight, getting tested is strongly recommended. If you are younger than 45, overweight, and have one or more risk factors, you also should talk with your doctor about being tested. See risk factors for type 2 diabetes. Why Early Detection is Important Diabetes is a serious disease that can lead to a number of health problems such as heart disease, stroke, vision problems, kidney disease and even death. Sometimes people have symptoms but do not suspect diabetes. They delay scheduling a checkup because they do not feel sick. Many people do not find out they have the disease until they have diabetes complications, such as a heart attack or stroke. Finding out early if you have diabetes is important because treatment can prevent or delay the complications of the disease.\"\n",
        "\n",
        "answer = answer_question(question, context)\n",
        "print(\"Answer:\", answer)\n"
      ]
    },
    {
      "cell_type": "code",
      "execution_count": 15,
      "metadata": {
        "id": "eo3ngFH7zntW"
      },
      "outputs": [],
      "source": [
        "import spacy\n",
        "\n",
        "# Load the English NLP model\n",
        "nlp = spacy.load(\"en_core_web_sm\")\n",
        "\n",
        "# Function to perform NER\n",
        "def perform_ner(text):\n",
        "    doc = nlp(text)\n",
        "    entities = [(ent.text, ent.label_) for ent in doc.ents]\n",
        "    return entities"
      ]
    },
    {
      "cell_type": "code",
      "execution_count": 16,
      "metadata": {
        "id": "PnA6dbDt03Ze"
      },
      "outputs": [
        {
          "name": "stdout",
          "output_type": "stream",
          "text": [
            "Answer based on question: Sorry, I couldn't find any specific information to answer the question.\n"
          ]
        }
      ],
      "source": [
        "import spacy\n",
        "\n",
        "# Load the English NLP model\n",
        "nlp = spacy.load(\"en_core_web_sm\")\n",
        "\n",
        "# Function to perform NER on the question\n",
        "def perform_ner_on_question(question):\n",
        "    doc = nlp(question)\n",
        "    entities = [(ent.text, ent.label_) for ent in doc.ents]\n",
        "    return entities\n",
        "\n",
        "# Function to generate an answer based on the question (without explicit context)\n",
        "def generate_answer_based_on_question(question):\n",
        "    entities = perform_ner_on_question(question)\n",
        "    \n",
        "    # If any entities are found, create a relevant response\n",
        "    if entities:\n",
        "        entity_info = \", \".join([f\"{ent[0]} ({ent[1]})\" for ent in entities])\n",
        "        return f\"The question contains the following entities: {entity_info}. Based on this, further information can be provided.\"\n",
        "    \n",
        "    # If no entities are found, provide a default response\n",
        "    return \"Sorry, I couldn't find any specific information to answer the question.\"\n",
        "\n",
        "# Example usage\n",
        "question = \"What is diabetes?\"\n",
        "answer = generate_answer_based_on_question(question)\n",
        "print(\"Answer based on question:\", answer)\n"
      ]
    },
    {
      "cell_type": "code",
      "execution_count": 17,
      "metadata": {
        "id": "zCSFgw-e1Ehj"
      },
      "outputs": [
        {
          "name": "stdout",
          "output_type": "stream",
          "text": [
            "Processed data has been saved to a pickle file.\n"
          ]
        }
      ],
      "source": [
        "import pickle\n",
        "\n",
        "# Assuming the processed data `data` (the DataFrame with tokenized and cleaned text) is ready to be saved\n",
        "\n",
        "# Save the processed dataset to a pickle file\n",
        "with open(r'C:\\Users\\msk23\\OneDrive\\Desktop\\NIT\\NLP\\New folder\\NLP.pkl', 'wb') as f:\n",
        "    pickle.dump(data, f)\n",
        "\n",
        "print(\"Processed data has been saved to a pickle file.\")\n"
      ]
    },
    {
      "cell_type": "code",
      "execution_count": null,
      "metadata": {},
      "outputs": [],
      "source": []
    },
    {
      "cell_type": "code",
      "execution_count": null,
      "metadata": {},
      "outputs": [],
      "source": []
    },
    {
      "cell_type": "code",
      "execution_count": null,
      "metadata": {},
      "outputs": [],
      "source": []
    },
    {
      "cell_type": "code",
      "execution_count": null,
      "metadata": {},
      "outputs": [],
      "source": []
    },
    {
      "cell_type": "code",
      "execution_count": null,
      "metadata": {},
      "outputs": [],
      "source": []
    },
    {
      "cell_type": "code",
      "execution_count": null,
      "metadata": {},
      "outputs": [],
      "source": []
    },
    {
      "cell_type": "code",
      "execution_count": null,
      "metadata": {},
      "outputs": [],
      "source": []
    },
    {
      "cell_type": "code",
      "execution_count": null,
      "metadata": {},
      "outputs": [],
      "source": []
    },
    {
      "cell_type": "code",
      "execution_count": null,
      "metadata": {},
      "outputs": [],
      "source": []
    },
    {
      "cell_type": "code",
      "execution_count": null,
      "metadata": {},
      "outputs": [],
      "source": []
    },
    {
      "cell_type": "code",
      "execution_count": null,
      "metadata": {},
      "outputs": [],
      "source": []
    },
    {
      "cell_type": "code",
      "execution_count": null,
      "metadata": {},
      "outputs": [],
      "source": []
    },
    {
      "cell_type": "code",
      "execution_count": null,
      "metadata": {},
      "outputs": [],
      "source": []
    },
    {
      "cell_type": "code",
      "execution_count": null,
      "metadata": {},
      "outputs": [],
      "source": []
    },
    {
      "cell_type": "code",
      "execution_count": null,
      "metadata": {},
      "outputs": [],
      "source": []
    },
    {
      "cell_type": "code",
      "execution_count": null,
      "metadata": {},
      "outputs": [],
      "source": []
    },
    {
      "cell_type": "code",
      "execution_count": null,
      "metadata": {},
      "outputs": [],
      "source": []
    },
    {
      "cell_type": "code",
      "execution_count": null,
      "metadata": {},
      "outputs": [],
      "source": []
    },
    {
      "cell_type": "code",
      "execution_count": null,
      "metadata": {},
      "outputs": [],
      "source": []
    },
    {
      "cell_type": "code",
      "execution_count": null,
      "metadata": {},
      "outputs": [],
      "source": []
    }
  ],
  "metadata": {
    "colab": {
      "private_outputs": true,
      "provenance": []
    },
    "kernelspec": {
      "display_name": "flaskenv",
      "language": "python",
      "name": "python3"
    },
    "language_info": {
      "codemirror_mode": {
        "name": "ipython",
        "version": 3
      },
      "file_extension": ".py",
      "mimetype": "text/x-python",
      "name": "python",
      "nbconvert_exporter": "python",
      "pygments_lexer": "ipython3",
      "version": "3.11.5"
    }
  },
  "nbformat": 4,
  "nbformat_minor": 0
}
